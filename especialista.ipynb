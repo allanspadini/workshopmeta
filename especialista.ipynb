{
 "cells": [
  {
   "cell_type": "code",
   "execution_count": 1,
   "id": "0965ccd8",
   "metadata": {},
   "outputs": [],
   "source": [
    "from langchain_google_genai import ChatGoogleGenerativeAI\n",
    "from langchain.prompts import ChatPromptTemplate\n",
    "from langchain_core.output_parsers import StrOutputParser\n",
    "import os\n",
    "from dotenv import load_dotenv"
   ]
  },
  {
   "cell_type": "code",
   "execution_count": 2,
   "id": "a7ae74d7",
   "metadata": {},
   "outputs": [],
   "source": [
    "load_dotenv()\n",
    "GEMINI_API_KEY = os.getenv(\"GEMINI_API_KEY\")\n",
    "    \n",
    "llm = ChatGoogleGenerativeAI(\n",
    "        model=\"gemini-2.5-flash-preview-04-17\",\n",
    "        api_key=GEMINI_API_KEY\n",
    ")"
   ]
  },
  {
   "cell_type": "code",
   "execution_count": 3,
   "id": "30377539",
   "metadata": {},
   "outputs": [],
   "source": [
    "prompt = ChatPromptTemplate.from_template(\"\"\"\n",
    "                Você é um poeta que transforma textos em poemas.\n",
    "                Por favor, transforme o seguinte texto em um poema:\n",
    "                {texto}\n",
    "            \"\"\")"
   ]
  },
  {
   "cell_type": "code",
   "execution_count": 4,
   "id": "38840c89",
   "metadata": {},
   "outputs": [],
   "source": [
    "chain = prompt | llm | StrOutputParser()"
   ]
  },
  {
   "cell_type": "code",
   "execution_count": 5,
   "id": "7db108e8",
   "metadata": {},
   "outputs": [],
   "source": [
    "saida = chain.invoke({\n",
    "    \"texto\": \"A vida é uma jornada cheia de desafios e alegrias, onde cada passo nos ensina algo novo.\"\n",
    "})"
   ]
  },
  {
   "cell_type": "code",
   "execution_count": 6,
   "id": "45488558",
   "metadata": {},
   "outputs": [
    {
     "name": "stdout",
     "output_type": "stream",
     "text": [
      "Com prazer! Inspirado no seu texto, transformei-o neste poema:\n",
      "\n",
      "**A Jornada do Ser**\n",
      "\n",
      "A vida, essa jornada que se estende,\n",
      "Um caminho de altos e baixos, compreende.\n",
      "Há lutas que o espírito acende,\n",
      "E alegrias que o coração rende.\n",
      "\n",
      "Mas em cada passo que se pisa,\n",
      "Uma lição a alma avisa.\n",
      "Um novo olhar que a mente divisa,\n",
      "No eterno fluir que a vida desliza.\n",
      "\n",
      "Espero que goste!\n"
     ]
    }
   ],
   "source": [
    "print(saida)"
   ]
  },
  {
   "cell_type": "code",
   "execution_count": 10,
   "id": "1cb13b77",
   "metadata": {},
   "outputs": [],
   "source": [
    "from langchain.tools import tool\n",
    "import random\n",
    "\n",
    "@tool\n",
    "def contar_piada_profissao(profissao: str) -> str:\n",
    "    \"\"\"Conta uma piada sobre a profissão fornecida.\"\"\"\n",
    "    piadas = {\n",
    "        \"geofísico\": [\n",
    "            \"Por que o geofísico terminou com a geóloga? Porque o relacionamento estava muito instável!\",\n",
    "            \"Como um geofísico relaxa? Lendo ondas de relaxação, claro!\"\n",
    "        ],\n",
    "        \"programador\": [\n",
    "            \"Por que o programador sempre confunde Halloween com Natal? Porque OCT 31 == DEC 25.\",\n",
    "            \"Qual o animal favorito de um programador? O *bug*.\"\n",
    "        ],\n",
    "        \"cientista de dados\": [\n",
    "            \"Por que o cientista de dados levou escada para o trabalho? Porque estava trabalhando com dados em nuvem.\",\n",
    "            \"99% dos problemas de Machine Learning são problemas de dados. Os outros 1%... também são.\"\n",
    "        ]\n",
    "    }\n",
    "    \n",
    "    if profissao.lower() in piadas:\n",
    "        return random.choice(piadas[profissao.lower()])\n",
    "    else:\n",
    "        return f\"Desculpe, ainda não sei piadas sobre {profissao}.\"\n"
   ]
  },
  {
   "cell_type": "code",
   "execution_count": null,
   "id": "2bdec806",
   "metadata": {},
   "outputs": [],
   "source": [
    "from langgraph.prebuilt import create_react_agent"
   ]
  },
  {
   "cell_type": "code",
   "execution_count": 15,
   "id": "13ebeb37",
   "metadata": {},
   "outputs": [],
   "source": [
    "# Lista de ferramentas (nossa função)\n",
    "tools = [contar_piada_profissao]"
   ]
  },
  {
   "cell_type": "code",
   "execution_count": 28,
   "id": "9715db7c",
   "metadata": {},
   "outputs": [],
   "source": [
    "# Cria o agente com ReAct (prompt + ferramenta + parsing)\n",
    "react_agent = create_react_agent(llm, tools,prompt=\"Você é um assistente que responde perguntas e pode contar piadas sobre profissões. Se não souber a resposta, diga que não sabe.\")"
   ]
  },
  {
   "cell_type": "code",
   "execution_count": 32,
   "id": "7b8c960a",
   "metadata": {},
   "outputs": [],
   "source": [
    "saida = react_agent.invoke(\n",
    "    {\"messages\": [{\"role\": \"user\", \"content\": \"Conte uma piada sobre programador.\"}]}\n",
    ")"
   ]
  },
  {
   "cell_type": "code",
   "execution_count": 33,
   "id": "6a443389",
   "metadata": {},
   "outputs": [
    {
     "data": {
      "text/plain": [
       "{'messages': [HumanMessage(content='Conte uma piada sobre programador.', additional_kwargs={}, response_metadata={}, id='a81c40b3-7af0-4f46-818e-aec9bd5679ca'),\n",
       "  AIMessage(content='Ok, deixa eu contar uma piada sobre programador.', additional_kwargs={'function_call': {'name': 'contar_piada_profissao', 'arguments': '{\"profissao\": \"programador\"}'}}, response_metadata={'prompt_feedback': {'block_reason': 0, 'safety_ratings': []}, 'finish_reason': 'STOP', 'model_name': 'models/gemini-2.5-flash-preview-04-17', 'safety_ratings': []}, id='run--c90958f3-0334-41d6-82f8-7717d839da18-0', tool_calls=[{'name': 'contar_piada_profissao', 'args': {'profissao': 'programador'}, 'id': 'ba1da659-8138-4d31-b928-483ed1c28be9', 'type': 'tool_call'}], usage_metadata={'input_tokens': 87, 'output_tokens': 35, 'total_tokens': 228, 'input_token_details': {'cache_read': 0}, 'output_token_details': {'reasoning': 106}}),\n",
       "  ToolMessage(content='Qual o animal favorito de um programador? O *bug*.', name='contar_piada_profissao', id='de192231-0be2-4110-8350-0967f7588e23', tool_call_id='ba1da659-8138-4d31-b928-483ed1c28be9'),\n",
       "  AIMessage(content='Qual o animal favorito de um programador? O *bug*.', additional_kwargs={}, response_metadata={'prompt_feedback': {'block_reason': 0, 'safety_ratings': []}, 'finish_reason': 'STOP', 'model_name': 'models/gemini-2.5-flash-preview-04-17', 'safety_ratings': []}, id='run--02fd1f87-1a71-46ac-855d-88251fb413b7-0', usage_metadata={'input_tokens': 142, 'output_tokens': 13, 'total_tokens': 155, 'input_token_details': {'cache_read': 0}})]}"
      ]
     },
     "execution_count": 33,
     "metadata": {},
     "output_type": "execute_result"
    }
   ],
   "source": [
    "saida"
   ]
  },
  {
   "cell_type": "code",
   "execution_count": 42,
   "id": "153be564",
   "metadata": {},
   "outputs": [
    {
     "name": "stdout",
     "output_type": "stream",
     "text": [
      "Qual o animal favorito de um programador? O *bug*.\n"
     ]
    }
   ],
   "source": [
    "# Pega a última mensagem da lista\n",
    "ultima_msg = saida[\"messages\"][-1]\n",
    "\n",
    "# Se for AIMessage, pega o .content\n",
    "print(ultima_msg.content)"
   ]
  },
  {
   "cell_type": "code",
   "execution_count": 41,
   "id": "20ab4b96",
   "metadata": {},
   "outputs": [
    {
     "name": "stdout",
     "output_type": "stream",
     "text": [
      "{'messages': [HumanMessage(content='Conte uma piada sobre programador.', additional_kwargs={}, response_metadata={}, id='a81c40b3-7af0-4f46-818e-aec9bd5679ca'), AIMessage(content='Ok, deixa eu contar uma piada sobre programador.', additional_kwargs={'function_call': {'name': 'contar_piada_profissao', 'arguments': '{\"profissao\": \"programador\"}'}}, response_metadata={'prompt_feedback': {'block_reason': 0, 'safety_ratings': []}, 'finish_reason': 'STOP', 'model_name': 'models/gemini-2.5-flash-preview-04-17', 'safety_ratings': []}, id='run--c90958f3-0334-41d6-82f8-7717d839da18-0', tool_calls=[{'name': 'contar_piada_profissao', 'args': {'profissao': 'programador'}, 'id': 'ba1da659-8138-4d31-b928-483ed1c28be9', 'type': 'tool_call'}], usage_metadata={'input_tokens': 87, 'output_tokens': 35, 'total_tokens': 228, 'input_token_details': {'cache_read': 0}, 'output_token_details': {'reasoning': 106}}), ToolMessage(content='Qual o animal favorito de um programador? O *bug*.', name='contar_piada_profissao', id='de192231-0be2-4110-8350-0967f7588e23', tool_call_id='ba1da659-8138-4d31-b928-483ed1c28be9'), AIMessage(content='Qual o animal favorito de um programador? O *bug*.', additional_kwargs={}, response_metadata={'prompt_feedback': {'block_reason': 0, 'safety_ratings': []}, 'finish_reason': 'STOP', 'model_name': 'models/gemini-2.5-flash-preview-04-17', 'safety_ratings': []}, id='run--02fd1f87-1a71-46ac-855d-88251fb413b7-0', usage_metadata={'input_tokens': 142, 'output_tokens': 13, 'total_tokens': 155, 'input_token_details': {'cache_read': 0}})]}\n"
     ]
    }
   ],
   "source": [
    "print(saida)"
   ]
  },
  {
   "cell_type": "code",
   "execution_count": 43,
   "id": "b64719e7",
   "metadata": {},
   "outputs": [
    {
     "name": "stdout",
     "output_type": "stream",
     "text": [
      "[HumanMessage] Conte uma piada sobre programador.\n",
      "\n",
      "[AIMessage] Ok, deixa eu contar uma piada sobre programador.\n",
      "\n",
      "[ToolMessage] Qual o animal favorito de um programador? O *bug*.\n",
      "\n",
      "[AIMessage] Qual o animal favorito de um programador? O *bug*.\n",
      "\n"
     ]
    }
   ],
   "source": [
    "for msg in saida[\"messages\"]:\n",
    "    tipo = msg.__class__.__name__\n",
    "    conteudo = msg.content\n",
    "    print(f\"[{tipo}] {conteudo}\\n\")\n"
   ]
  },
  {
   "cell_type": "code",
   "execution_count": null,
   "id": "1e62e9d4",
   "metadata": {},
   "outputs": [],
   "source": []
  }
 ],
 "metadata": {
  "kernelspec": {
   "display_name": ".venv",
   "language": "python",
   "name": "python3"
  },
  "language_info": {
   "codemirror_mode": {
    "name": "ipython",
    "version": 3
   },
   "file_extension": ".py",
   "mimetype": "text/x-python",
   "name": "python",
   "nbconvert_exporter": "python",
   "pygments_lexer": "ipython3",
   "version": "3.11.11"
  }
 },
 "nbformat": 4,
 "nbformat_minor": 5
}
